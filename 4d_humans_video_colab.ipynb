{
  "cells": [
    {
      "cell_type": "markdown",
      "metadata": {
        "id": "view-in-github"
      },
      "source": [
        "[![Open In Colab](https://colab.research.google.com/assets/colab-badge.svg)](https://colab.research.google.com/github/camenduru/4D-Humans-colab/blob/main/4d_humans_video_colab.ipynb)"
      ]
    },
    {
      "cell_type": "code",
      "execution_count": null,
      "metadata": {
        "id": "VjYy0F2gZIPR"
      },
      "outputs": [],
      "source": [
        "%cd /content\n",
        "\n",
        "!apt -y install -qq aria2\n",
        "\n",
        "!aria2c --console-log-level=error -c -x 16 -s 16 -k 1M https://huggingface.co/camenduru/4D-Humans/resolve/main/hmr2_data.tar.gz -d /root/.cache/4DHumans -o hmr2_data.tar.gz\n",
        "\n",
        "!git clone -b v1.0 https://github.com/camenduru/4D-Humans\n",
        "\n",
        "!pip install gradio yacs smplx==0.1.28 pytorch-lightning pyrender timm einops\n",
        "!pip install https://huggingface.co/camenduru/phalp/resolve/main/detectron2-0.6-cp310-cp310-linux_x86_64.whl\n",
        "!pip install git+https://github.com/camenduru/PHALP.git"
      ]
    },
    {
      "cell_type": "code",
      "execution_count": null,
      "metadata": {},
      "outputs": [],
      "source": [
        "%cd /content/4D-Humans\n",
        "!python track.py video.source=\\'\"https://www.youtube.com/watch?v=xEH_5T9jMVU\"\\'"
      ]
    }
  ],
  "metadata": {
    "accelerator": "GPU",
    "colab": {
      "gpuType": "T4",
      "provenance": []
    },
    "kernelspec": {
      "display_name": "Python 3",
      "name": "python3"
    },
    "language_info": {
      "name": "python"
    }
  },
  "nbformat": 4,
  "nbformat_minor": 0
}
