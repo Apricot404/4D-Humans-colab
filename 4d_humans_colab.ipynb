{
  "cells": [
    {
      "cell_type": "code",
      "execution_count": null,
      "metadata": {
        "id": "VjYy0F2gZIPR"
      },
      "outputs": [],
      "source": [
        "%cd /content\n",
        "\n",
        "!apt -y install -qq aria2\n",
        "\n",
        "!aria2c --console-log-level=error -c -x 16 -s 16 -k 1M https://huggingface.co/camenduru/4D-Humans/resolve/main/train/multiruns/hmr2/0/checkpoints/epoch%3D35-step%3D1000000.ckpt -d /content/models -o model.ckpt\n",
        "!aria2c --console-log-level=error -c -x 16 -s 16 -k 1M https://huggingface.co/camenduru/4D-Humans/resolve/main/model_final_f05665.pkl -d /content/models -o model_final_f05665.pkl\n",
        "!aria2c --console-log-level=error -c -x 16 -s 16 -k 1M https://huggingface.co/camenduru/4D-Humans/raw/main/train/multiruns/hmr2/0/model_config.yaml  -d /content/models -o model_config.yaml\n",
        "!aria2c --console-log-level=error -c -x 16 -s 16 -k 1M https://huggingface.co/camenduru/4D-Humans/resolve/main/SMPL_to_J19.pkl  -d /content/models -o SMPL_to_J19.pkl\n",
        "!aria2c --console-log-level=error -c -x 16 -s 16 -k 1M https://huggingface.co/camenduru/4D-Humans/resolve/main/smpl_mean_params.npz  -d /content/models -o smpl_mean_params.npz\n",
        "!aria2c --console-log-level=error -c -x 16 -s 16 -k 1M https://huggingface.co/camenduru/4D-Humans/resolve/main/smpl/SMPL_FEMALE.pkl  -d /content/models -o SMPL_FEMALE.pkl\n",
        "!aria2c --console-log-level=error -c -x 16 -s 16 -k 1M https://huggingface.co/camenduru/4D-Humans/resolve/main/smpl/SMPL_MALE.pkl  -d /content/models -o SMPL_MALE.pkl\n",
        "!aria2c --console-log-level=error -c -x 16 -s 16 -k 1M https://huggingface.co/camenduru/4D-Humans/resolve/main/smpl/SMPL_NEUTRAL.pkl  -d /content/models -o SMPL_NEUTRAL.pkl\n",
        "\n",
        "!git clone -b dev https://github.com/camenduru/4D-Humans\n",
        "!rm -rf /content/4D-Humans/vendor/detectron2\n",
        "!git clone https://github.com/camenduru/detectron2 /content/4D-Humans/vendor/detectron2\n",
        "!git -C /content/4D-Humans/vendor/detectron2 fetch\n",
        "!git -C /content/4D-Humans/vendor/detectron2 checkout 0df924ce6066fb97d5413244614b12fbabaf65c8\n",
        "\n",
        "!pip install pytorch-lightning smplx==0.1.28 pyrender opencv-python yacs scikit-image einops timm\n",
        "!pip install -e /content/4D-Humans/vendor/detectron2/"
      ]
    },
    {
      "cell_type": "code",
      "execution_count": null,
      "metadata": {},
      "outputs": [],
      "source": [
        "%cd /content/HMR2\n",
        "!python demo.py --img_folder /content/4D-Humans/example_data/images --out_folder /content/4D-Humans/demo_out --batch_size=48 --side_view"
      ]
    },
    {
      "cell_type": "code",
      "execution_count": null,
      "metadata": {},
      "outputs": [],
      "source": [
        "from IPython.display import Image, display\n",
        "import os\n",
        "output_images = [\"/content/4D-Humans/demo_out/\" + i for i in os.listdir(\"/content/4D-Humans/demo_out/\") if \".png\" in i]\n",
        "for img in output_images:\n",
        "  display(Image(img))"
      ]
    }
  ],
  "metadata": {
    "accelerator": "GPU",
    "colab": {
      "gpuType": "T4",
      "provenance": []
    },
    "kernelspec": {
      "display_name": "Python 3",
      "name": "python3"
    },
    "language_info": {
      "name": "python"
    }
  },
  "nbformat": 4,
  "nbformat_minor": 0
}
