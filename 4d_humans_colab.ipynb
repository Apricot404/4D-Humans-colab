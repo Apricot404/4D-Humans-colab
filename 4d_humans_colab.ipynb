{
    "nbformat": 4,
    "nbformat_minor": 0,
    "metadata": {
      "colab": {
        "provenance": [],
        "gpuType": "T4"
      },
      "kernelspec": {
        "name": "python3",
        "display_name": "Python 3"
      },
      "language_info": {
        "name": "python"
      },
      "accelerator": "GPU"
    },
    "cells": [
      {
        "cell_type": "code",
        "execution_count": null,
        "metadata": {
          "id": "VjYy0F2gZIPR"
        },
        "outputs": [],
        "source": [
          "%cd /content\n",
          "\n",
          "!apt -y install -qq aria2\n",
          "!aria2c --console-log-level=error -c -x 16 -s 16 -k 1M https://huggingface.co/camenduru/4D-Humans/resolve/main/train/multiruns/hmr2/0/checkpoints/epoch%3D35-step%3D1000000.ckpt -d /content/models -o model.ckpt\n",
          "!aria2c --console-log-level=error -c -x 16 -s 16 -k 1M https://huggingface.co/camenduru/4D-Humans/resolve/main/model_final_f05665.pkl -d /content/models -o model_final_f05665.pkl\n",
          "!git clone -b dev https://github.com/camenduru/4D-Humans\n",
          "!rm -rf /content/4D-Humans/vendor/detectron2\n",
          "!git clone https://github.com/camenduru/detectron2 /content/4D-Humans/vendor/detectron2\n",
          "!git -C /content/4D-Humans/vendor/detectron2 fetch\n",
          "!git -C /content/4D-Humans/vendor/detectron2 checkout 0df924ce6066fb97d5413244614b12fbabaf65c8"
        ]
      }
    ]
  }